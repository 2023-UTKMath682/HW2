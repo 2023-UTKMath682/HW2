{
 "cells": [
  {
   "cell_type": "markdown",
   "id": "04cdb4a2",
   "metadata": {},
   "source": [
    "# HW 2 (Chapter 7 Computer Lab)\n",
    "\n",
    "Use this Jupyter notebook to complete the computer lab."
   ]
  },
  {
   "cell_type": "markdown",
   "id": "b83bddeb",
   "metadata": {},
   "source": [
    "## 7.1 Generating and Plotting Trajectories\n",
    "\n",
    "In the following cell, create a function that returns a 2D random walk with N steps, where N is an argument to be passed into the function. Then use this function to complete the assignment on page 103 in subsequent cells. Remember that you must run this cell with the function definition in order for other cells to know about the function. And if you close the notebook and reopen it, you need to run the function cell again in order for the other cells to know about it."
   ]
  },
  {
   "cell_type": "code",
   "execution_count": null,
   "id": "5d731322",
   "metadata": {},
   "outputs": [],
   "source": []
  },
  {
   "cell_type": "markdown",
   "id": "0f7ac419",
   "metadata": {},
   "source": [
    "a. Use the ideas in Section 6.2 to make a random walk trajectory, and then plot it."
   ]
  },
  {
   "cell_type": "code",
   "execution_count": null,
   "id": "54134280",
   "metadata": {},
   "outputs": [],
   "source": []
  },
  {
   "cell_type": "markdown",
   "id": "33d17d46",
   "metadata": {},
   "source": [
    "b. Now make four such trajectories, and look at all four side by side."
   ]
  },
  {
   "cell_type": "code",
   "execution_count": null,
   "id": "d70b4340",
   "metadata": {},
   "outputs": [],
   "source": []
  },
  {
   "cell_type": "markdown",
   "id": "5d90767d",
   "metadata": {},
   "source": [
    "## 7.2 Plotting the Displacement Distribution\n",
    "In a format similar to that above, use your function to complete the assignment on page 104. Use a markdown cell to separate each code cell answer."
   ]
  },
  {
   "cell_type": "code",
   "execution_count": null,
   "id": "c7476149",
   "metadata": {},
   "outputs": [],
   "source": []
  },
  {
   "cell_type": "markdown",
   "id": "265b1419",
   "metadata": {},
   "source": [
    "## 7.3 Rare Events\n",
    "a. In the following cell, plot the Poisson distribution for a given value of l."
   ]
  },
  {
   "cell_type": "code",
   "execution_count": null,
   "id": "1f5edd6b",
   "metadata": {},
   "outputs": [],
   "source": []
  },
  {
   "cell_type": "markdown",
   "id": "24586ffe",
   "metadata": {},
   "source": [
    "In the following cell, create a function that will flip a coin F times where the probability that a coin lands on heads each time is p. So: F, and p should be arguments that you pass into the function. Give F a default value of 100 and p a default value of 0.5. The function should return the number of heads, M."
   ]
  },
  {
   "cell_type": "code",
   "execution_count": null,
   "id": "9fa6115a",
   "metadata": {},
   "outputs": [],
   "source": []
  },
  {
   "cell_type": "markdown",
   "id": "152009e9",
   "metadata": {},
   "source": [
    "Complete 7.3.1 b-e in cells below, using markdown cells to separate and explain each code cell answer."
   ]
  },
  {
   "cell_type": "code",
   "execution_count": null,
   "id": "4576b310",
   "metadata": {},
   "outputs": [],
   "source": []
  },
  {
   "cell_type": "markdown",
   "id": "c917f7ef",
   "metadata": {},
   "source": [
    "7.3.2 (Waiting times) is not required, but feel free to complete it if you want extra practice!"
   ]
  }
 ],
 "metadata": {
  "kernelspec": {
   "display_name": "Python 3 (ipykernel)",
   "language": "python",
   "name": "python3"
  },
  "language_info": {
   "codemirror_mode": {
    "name": "ipython",
    "version": 3
   },
   "file_extension": ".py",
   "mimetype": "text/x-python",
   "name": "python",
   "nbconvert_exporter": "python",
   "pygments_lexer": "ipython3",
   "version": "3.10.9"
  }
 },
 "nbformat": 4,
 "nbformat_minor": 5
}
